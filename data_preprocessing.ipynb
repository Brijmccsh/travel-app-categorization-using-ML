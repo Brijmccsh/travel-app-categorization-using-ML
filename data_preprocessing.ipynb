{
 "cells": [
  {
   "cell_type": "code",
   "execution_count": 2,
   "id": "e31671f6",
   "metadata": {},
   "outputs": [],
   "source": [
    "import os\n",
    "import pandas as pd\n",
    "\n",
    "data_folder = 'p1'\n",
    "emotions = ['A_folder', 'H_folder', 'C_folder', 'N_folder', 'S_folder']\n",
    "\n",
    "\n",
    "data_dict = {}\n",
    "for emotion in emotions:\n",
    "    emotion_path = os.path.join(data_folder, emotion)\n",
    "    users = os.listdir(emotion_path)\n",
    "    user_data = {}\n",
    "    for user in users:\n",
    "        user_path = os.path.join(emotion_path, user)\n",
    "        if os.path.isdir(user_path):  \n",
    "            user_data[user] = [pd.read_csv(os.path.join(user_path, file)) for file in os.listdir(user_path)]\n",
    "    data_dict[emotion] = user_data\n",
    "\n"
   ]
  },
  {
   "cell_type": "code",
   "execution_count": 4,
   "id": "855f2e94",
   "metadata": {},
   "outputs": [],
   "source": [
    "import numpy as np\n",
    "\n",
    "# One-hot encode \"keyCode\" column\n",
    "for emotion, users in data_dict.items():\n",
    "    for user, user_data in users.items():\n",
    "        for df in user_data:\n",
    "            df = pd.get_dummies(df, columns=['keyCode'], prefix='keyCode', drop_first=True)\n"
   ]
  },
  {
   "cell_type": "code",
   "execution_count": 6,
   "id": "595014e0",
   "metadata": {},
   "outputs": [],
   "source": [
    "from sklearn.preprocessing import StandardScaler\n",
    "\n",
    "# Normalize numerical features\n",
    "scaler = StandardScaler()\n",
    "\n",
    "for emotion, users in data_dict.items():\n",
    "    for user, user_data in users.items():\n",
    "        for df in user_data:\n",
    "            df[['D1U1', 'D1U2', 'U1D2', 'U1U2']] = scaler.fit_transform(df[['D1U1', 'D1U2', 'U1D2', 'U1U2']])\n"
   ]
  },
  {
   "cell_type": "code",
   "execution_count": 7,
   "id": "b4106144",
   "metadata": {},
   "outputs": [
    {
     "ename": "ValueError",
     "evalue": "No valid sequences found.",
     "output_type": "error",
     "traceback": [
      "\u001b[0;31m---------------------------------------------------------------------------\u001b[0m",
      "\u001b[0;31mValueError\u001b[0m                                Traceback (most recent call last)",
      "Cell \u001b[0;32mIn[7], line 27\u001b[0m\n\u001b[1;32m     25\u001b[0m     all_labels \u001b[38;5;241m=\u001b[39m np\u001b[38;5;241m.\u001b[39marray(labels)\n\u001b[1;32m     26\u001b[0m \u001b[38;5;28;01melse\u001b[39;00m:\n\u001b[0;32m---> 27\u001b[0m     \u001b[38;5;28;01mraise\u001b[39;00m \u001b[38;5;167;01mValueError\u001b[39;00m(\u001b[38;5;124m\"\u001b[39m\u001b[38;5;124mNo valid sequences found.\u001b[39m\u001b[38;5;124m\"\u001b[39m)\n",
      "\u001b[0;31mValueError\u001b[0m: No valid sequences found."
     ]
    }
   ],
   "source": [
    "sequence_length = 10  \n",
    "sequences_list = []\n",
    "labels = []\n",
    "\n",
    "for emotion, users in data_dict.items():\n",
    "    for user, user_data in users.items():\n",
    "        sequences = []\n",
    "        for df in user_data:\n",
    "            # Assuming 'keyCode' columns are one-hot encoded, select relevant columns for sequences\n",
    "            sequence_data = df[['keyCode_a', 'keyCode_b', ...]]  # Update column names based on your one-hot encoding\n",
    "\n",
    "            # Check if there are enough data points for the sequence\n",
    "            if len(sequence_data) >= sequence_length:\n",
    "                seq = create_sequences(sequence_data.values, sequence_length)\n",
    "                sequences.append(seq)\n",
    "\n",
    "        # Check if there are valid sequences for the user\n",
    "        if sequences:\n",
    "            sequences_list.append(np.concatenate(sequences))\n",
    "            labels.extend([label_mapping[emotion]] * len(sequences))\n",
    "\n",
    "# Concatenate all sequences and labels\n",
    "if sequences_list:\n",
    "    all_sequences = np.concatenate(sequences_list)\n",
    "    all_labels = np.array(labels)\n",
    "else:\n",
    "    raise ValueError(\"No valid sequences found.\")\n"
   ]
  },
  {
   "cell_type": "code",
   "execution_count": 10,
   "id": "1a694c5b",
   "metadata": {},
   "outputs": [
    {
     "name": "stdout",
     "output_type": "stream",
     "text": [
      "3\n"
     ]
    }
   ],
   "source": []
  },
  {
   "cell_type": "code",
   "execution_count": null,
   "id": "67ec2901",
   "metadata": {},
   "outputs": [],
   "source": []
  }
 ],
 "metadata": {
  "kernelspec": {
   "display_name": "Python 3 (ipykernel)",
   "language": "python",
   "name": "python3"
  },
  "language_info": {
   "codemirror_mode": {
    "name": "ipython",
    "version": 3
   },
   "file_extension": ".py",
   "mimetype": "text/x-python",
   "name": "python",
   "nbconvert_exporter": "python",
   "pygments_lexer": "ipython3",
   "version": "3.11.5"
  }
 },
 "nbformat": 4,
 "nbformat_minor": 5
}
